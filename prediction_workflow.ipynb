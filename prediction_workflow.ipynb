{
 "cells": [
  {
   "cell_type": "code",
   "execution_count": 7,
   "id": "f9853ec9",
   "metadata": {},
   "outputs": [
    {
     "name": "stdout",
     "output_type": "stream",
     "text": [
      "model loaded\n"
     ]
    }
   ],
   "source": [
    "import tensorflow as tf\n",
    "from model import build_model, mix_loss, ssim_metric\n",
    "try:\n",
    "    model = tf.keras.models.load_model(\"model/model_solarcnn\", \n",
    "                                    custom_objects={'mix_loss': mix_loss, 'ssim_metric': ssim_metric})\n",
    "    print(\"model loaded\")\n",
    "except:\n",
    "    print(\"model loading error\")\n"
   ]
  },
  {
   "cell_type": "code",
   "execution_count": 8,
   "id": "20305ced",
   "metadata": {},
   "outputs": [
    {
     "name": "stdout",
     "output_type": "stream",
     "text": [
      "data loaded, total sample: 3\n"
     ]
    }
   ],
   "source": [
    "from astropy.io import fits\n",
    "import os\n",
    "\n",
    "def load_data(path):\n",
    "    data_row = [(name, fits.open(os.path.join(path, name))[0].data) for name in os.listdir(path)]\n",
    "    data_sort = sorted(data_row, key=lambda x: x[0])\n",
    "    data = [item[1] for item in data_sort]\n",
    "    name = [item[0] for item in data_sort]\n",
    "    return tf.Variable(initial_value=data, dtype=tf.float32), name\n",
    "\n",
    "try:\n",
    "    test_input, test_name = load_data(\"data/image/test/\")\n",
    "    print(\"data loaded, total sample:\", len(test_name))\n",
    "except:\n",
    "    print(\"data loading error\")"
   ]
  },
  {
   "cell_type": "code",
   "execution_count": 9,
   "id": "b573a7f0",
   "metadata": {},
   "outputs": [
    {
     "name": "stdout",
     "output_type": "stream",
     "text": [
      "Predict sample 1\n",
      "1/1 [==============================] - 1s 847ms/step\n",
      "Predict sample 2\n",
      "1/1 [==============================] - 0s 497ms/step\n",
      "Predict sample 3\n",
      "1/1 [==============================] - 0s 492ms/step\n",
      "Finished\n"
     ]
    }
   ],
   "source": [
    "output_path = \"data/pred/\"\n",
    "for i in range(test_input.shape[0]):\n",
    "    print(\"Predict sample \"+str(i+1))\n",
    "    test_sample = tf.reshape(test_input[i], (-1, 256, 256, 1))\n",
    "    prediction = model.predict(test_sample/2000.)\n",
    "    pred_name = \"enh_mdi_\" + test_name[i][4:20] + \"SolarCNN.fits\"\n",
    "    fits_data = fits.PrimaryHDU(prediction[0]*2000.)\n",
    "    fits_data.writeto(os.path.join(output_path, pred_name), overwrite=True)\n",
    "print(\"Finished\")"
   ]
  },
  {
   "cell_type": "code",
   "execution_count": null,
   "id": "1cdecb19",
   "metadata": {},
   "outputs": [],
   "source": []
  }
 ],
 "metadata": {
  "kernelspec": {
   "display_name": "tf",
   "language": "python",
   "name": "python3"
  },
  "language_info": {
   "codemirror_mode": {
    "name": "ipython",
    "version": 3
   },
   "file_extension": ".py",
   "mimetype": "text/x-python",
   "name": "python",
   "nbconvert_exporter": "python",
   "pygments_lexer": "ipython3",
   "version": "3.8.20"
  }
 },
 "nbformat": 4,
 "nbformat_minor": 5
}
